{
  "nbformat": 4,
  "nbformat_minor": 0,
  "metadata": {
    "colab": {
      "name": "OEPKG.ipynb",
      "provenance": [],
      "collapsed_sections": []
    },
    "kernelspec": {
      "display_name": "Python 3",
      "name": "python3"
    },
    "language_info": {
      "name": "python"
    }
  },
  "cells": [
    {
      "cell_type": "code",
      "metadata": {
        "id": "oxOBY6gEuOOJ"
      },
      "source": [
        "!pip install rdflib"
      ],
      "execution_count": null,
      "outputs": []
    },
    {
      "cell_type": "code",
      "source": [
        "from google.colab import drive\n",
        "drive.mount('/content/drive')"
      ],
      "metadata": {
        "colab": {
          "base_uri": "https://localhost:8080/"
        },
        "id": "X8ijgLPGZYFf",
        "outputId": "b0c44cbd-d0d2-46d0-f10b-1948e2d3905c"
      },
      "execution_count": 1,
      "outputs": [
        {
          "output_type": "stream",
          "name": "stdout",
          "text": [
            "Mounted at /content/drive\n"
          ]
        }
      ]
    },
    {
      "cell_type": "code",
      "metadata": {
        "id": "MUjUVb6mOvUx"
      },
      "source": [
        "from rdflib import Graph, Literal, RDF, URIRef, BNode\n",
        "from rdflib.namespace import XSD, Namespace"
      ],
      "execution_count": 4,
      "outputs": []
    },
    {
      "cell_type": "code",
      "metadata": {
        "id": "4Ip7fxKtQW5r"
      },
      "source": [
        "OEO = Namespace(\"http://openenergy-platform.org/ontology/oeo/\")\n",
        "OEO_KG = Namespace(\"http://openenergy-platform.org/oekg/\")\n",
        "OBO = Namespace(\"http://purl.obolibrary.org/obo/\") \n",
        "RDFS = Namespace(\"http://www.w3.org/2000/01/rdf-schema#\")"
      ],
      "execution_count": 5,
      "outputs": []
    },
    {
      "cell_type": "code",
      "source": [
        "import json\n",
        "f = open(\"/content/drive/MyDrive/OEKG/new/place_holders.json\")\n",
        "PL = json.load(f)"
      ],
      "metadata": {
        "id": "LyseIPn_ZfGl"
      },
      "execution_count": 6,
      "outputs": []
    },
    {
      "cell_type": "code",
      "source": [
        "g = Graph()\n",
        "g.bind(\"OEO\", OEO)\n",
        "g.bind(\"OEO_KG\", OEO_KG)\n",
        "g.bind(\"OBO\", OBO)"
      ],
      "metadata": {
        "id": "pvFSLYDAtrKB"
      },
      "execution_count": 7,
      "outputs": []
    },
    {
      "cell_type": "code",
      "source": [
        "Scenario_Year_2015 = URIRef(\"http://openenergy-platform.org/ontology/oekg/scenario_year_2015\")\n",
        "Scenario_Year_2020 = URIRef(\"http://openenergy-platform.org/ontology/oekg/scenario_year_2020\")\n",
        "Scenario_Year_2025 = URIRef(\"http://openenergy-platform.org/ontology/oekg/scenario_year_2025\")\n",
        "Scenario_Year_2030 = URIRef(\"http://openenergy-platform.org/ontology/oekg/scenario_year_2030\")\n",
        "Scenario_Year_2035 = URIRef(\"http://openenergy-platform.org/ontology/oekg/scenario_year_2035\")\n",
        "Scenario_Year_2040 = URIRef(\"http://openenergy-platform.org/ontology/oekg/scenario_year_2040\")\n",
        "Scenario_Year_2045 = URIRef(\"http://openenergy-platform.org/ontology/oekg/scenario_year_2045\")\n",
        "Scenario_Year_2050 = URIRef(\"http://openenergy-platform.org/ontology/oekg/scenario_year_2050\")\n",
        "\n",
        "scenario_years_dictionary = {\n",
        "  \"2015\": Scenario_Year_2015,\n",
        "  \"2020\": Scenario_Year_2020,\n",
        "  \"2025\": Scenario_Year_2025, \n",
        "  \"2030\": Scenario_Year_2030,  \n",
        "  \"2035\": Scenario_Year_2035,  \n",
        "  \"2040\": Scenario_Year_2040,  \n",
        "  \"2045\": Scenario_Year_2045,  \n",
        "  \"2050\": Scenario_Year_2050,     \n",
        "}\n",
        "\n",
        "for k, v in scenario_years_dictionary.items():\n",
        "  scenario_year_time_stamp = BNode()\n",
        "  g.add((scenario_year_time_stamp, OEO.OEO_00140178, Literal(k, datatype=XSD.integer)))\n",
        "  g.add((v, RDF.type, OEO.OEO_00020097))\n",
        "  g.add((v, OEO.OEO_00140178, scenario_year_time_stamp))\n"
      ],
      "metadata": {
        "id": "3c0CNXxVXW79"
      },
      "execution_count": 8,
      "outputs": []
    },
    {
      "cell_type": "code",
      "source": [
        "scenario_duration_unit_year =  URIRef(\"http://openenergy-platform.org/ontology/oekg/scenario_duration_unit_year\")\n",
        "g.add((scenario_duration_unit_year, RDF.type, OEO.UO_0000036))"
      ],
      "metadata": {
        "colab": {
          "base_uri": "https://localhost:8080/"
        },
        "id": "CrM2tBNIXZdK",
        "outputId": "f9443531-4209-4aa3-a5fa-7150dd8021c9"
      },
      "execution_count": 9,
      "outputs": [
        {
          "output_type": "execute_result",
          "data": {
            "text/plain": [
              "<Graph identifier=Nf47ce61e9ca040fc8f4ffa88198545d7 (<class 'rdflib.graph.Graph'>)>"
            ]
          },
          "metadata": {},
          "execution_count": 9
        }
      ]
    },
    {
      "cell_type": "code",
      "source": [
        "for k, v in PL.items():\n",
        "  study =  URIRef(\"http://openenergy-platform.org/ontology/oekg/\" + k)\n",
        "  g.add((study, RDF.type, OEO.OEO_00000364))\n",
        "  \n",
        "  scenario_horizon = BNode()\n",
        "  g.add((scenario_horizon, RDF.type, OEO.OEO_00020098))\n",
        "  g.add((study, OEO.BFO_0000051, scenario_horizon))\n",
        "\n",
        "  scenario_horizon_duration = BNode()\n",
        "  g.add((scenario_horizon_duration, RDF.type, OEO.OEO_00030035))\n",
        "  if (v[\"scenario horizon\"][\"duration\"][\"unit\"] == \"year\"):\n",
        "    g.add((scenario_horizon_duration, OEO.OEO_00040010, scenario_duration_unit_year))\n",
        "  scenario_horizon_duration_value = v[\"scenario horizon\"][\"duration\"][\"value\"]\n",
        "  g.add((scenario_horizon_duration, OEO.OEO_00140178, Literal(scenario_horizon_duration_value, datatype=XSD.integer)))\n",
        "  g.add((scenario_horizon, OEO.BFO_0000051, scenario_horizon_duration))\n",
        "\n",
        "  scenario_horizon_start_time = BNode()\n",
        "  g.add((scenario_horizon, OEO.BFO_0000051, scenario_horizon_start_time))\n",
        "  g.add((scenario_horizon_start_time, RDF.type, OEO.OEO_00030031))\n",
        "  scenario_horizon_start_time_value = v[\"scenario horizon\"][\"duration\"][\"start time\"]\n",
        "  g.add((scenario_horizon_start_time, OEO.OEO_00140178, Literal(scenario_horizon_start_time_value, datatype=XSD.integer)))\n",
        "  \n",
        "  scenario_horizon_end_time = BNode()\n",
        "  g.add((scenario_horizon, OEO.BFO_0000051, scenario_horizon_end_time))\n",
        "  g.add((scenario_horizon_end_time, RDF.type, OEO.OEO_00030032))\n",
        "  scenario_horizon_ending_time_value = v[\"scenario horizon\"][\"duration\"][\"ending time\"]\n",
        "  g.add((scenario_horizon_end_time, OEO.OEO_00140178, Literal(scenario_horizon_ending_time_value, datatype=XSD.integer)))\n",
        "  \n",
        "  for scenario_year in  v[\"scenario years\"]:\n",
        "    g.add((scenario_horizon, OEO.BFO_0000051, scenario_years_dictionary[scenario_year]))\n",
        "\n",
        "\n",
        "  try:\n",
        "    for sector in v[\"covers sector\"]:\n",
        "      covered_sector = BNode()\n",
        "      g.add((covered_sector, RDF.type, URIRef(\"http://openenergy-platform.org/ontology/oeo/\" + sector) ))\n",
        "      g.add((study, OEO.OEO_00000505, covered_sector))\n",
        "\n",
        "    for energy_sector in v[\"covers energy carrier\"]:\n",
        "      covered_energy_carrier = BNode()\n",
        "      g.add((covered_energy_carrier, RDF.type, URIRef(\"http://openenergy-platform.org/ontology/oeo/\" + energy_sector) ))\n",
        "      g.add((study, OEO.OEO_00000523, covered_energy_carrier))\n",
        "  except Exception as e: \n",
        "    print(e)\n"
      ],
      "metadata": {
        "id": "RFPY5aHgbXSs"
      },
      "execution_count": 11,
      "outputs": []
    },
    {
      "cell_type": "code",
      "source": [
        "g.serialize(destination='OEKG.ttl', format='turtle')"
      ],
      "metadata": {
        "colab": {
          "base_uri": "https://localhost:8080/"
        },
        "id": "Rut4ctDf909p",
        "outputId": "b4a99410-168d-498e-ede9-9398eea958ca"
      },
      "execution_count": 12,
      "outputs": [
        {
          "output_type": "execute_result",
          "data": {
            "text/plain": [
              "<Graph identifier=Nf47ce61e9ca040fc8f4ffa88198545d7 (<class 'rdflib.graph.Graph'>)>"
            ]
          },
          "metadata": {},
          "execution_count": 12
        }
      ]
    },
    {
      "cell_type": "code",
      "source": [
        "for index, (sub, pred, obj) in enumerate(g):\n",
        "  print(index, sub, pred, obj)"
      ],
      "metadata": {
        "id": "APdhx01W-aa7"
      },
      "execution_count": null,
      "outputs": []
    },
    {
      "cell_type": "code",
      "source": [
        "len(g)"
      ],
      "metadata": {
        "id": "nwzSIIJ1-Pw8",
        "colab": {
          "base_uri": "https://localhost:8080/"
        },
        "outputId": "5d070848-8969-43bd-9c13-dcd17a173c16"
      },
      "execution_count": 14,
      "outputs": [
        {
          "output_type": "execute_result",
          "data": {
            "text/plain": [
              "151"
            ]
          },
          "metadata": {},
          "execution_count": 14
        }
      ]
    }
  ]
}